{
 "cells": [
  {
   "cell_type": "code",
   "execution_count": 15,
   "metadata": {},
   "outputs": [],
   "source": [
    "import os\n",
    "import pickle\n",
    "import matplotlib.pyplot as plt\n",
    "import networkx as nx\n",
    "import dgl\n",
    "import dgl.function as fn\n",
    "import torch\n",
    "import torch.nn as nn\n",
    "import torch.optim as optim\n",
    "from torch.utils.data import DataLoader\n"
   ]
  },
  {
   "cell_type": "code",
   "execution_count": 2,
   "metadata": {},
   "outputs": [],
   "source": [
    "if not os.path.exists(\"apkdump\"):\n",
    "    os.mkdir(\"apkdump\")\n",
    "    "
   ]
  },
  {
   "cell_type": "code",
   "execution_count": 19,
   "metadata": {},
   "outputs": [
    {
     "name": "stdout",
     "output_type": "stream",
     "text": [
      "processing : agency.contra.apps.kpmg.kpmgglobaltaxevent.apk_networkData.pickle\n",
      "processing : age.of.civilizations.jakowski.lite.apk_networkData.pickle\n",
      "processing : agagswe.technological.news.apk_networkData.pickle\n",
      "processing : air.AdditionIsFun.apk_networkData.pickle\n",
      "processing : air.air.com.jessoft.flvplayer.FLVPlayer.apk_networkData.pickle\n",
      "processing : air.air.FootballTacticsAndroid.apk_networkData.pickle\n",
      "processing : air.air.com.hi4u4o.game.Turbo_Boat_Race.apk_networkData.pickle\n",
      "processing : aero.sita.lab.resmobileweb.android.mh.apk_networkData.pickle\n",
      "processing : advanced.speed.booster.apk_networkData.pickle\n",
      "processing : air.AfterInjuryFrozenAnnaAPK.apk_networkData.pickle\n"
     ]
    }
   ],
   "source": [
    "Graph_data = [] #list of tuples (G, lable)\n",
    "for i in os.listdir(\"apkdump\"):\n",
    "    print(f'processing : {i}')\n",
    "    gdata = open(\"apkdump/\"+str(i),'rb')\n",
    "    db = pickle.load(gdata)\n",
    "    l = db['label'][0]\n",
    "    adj = db['adjacency']\n",
    "    xg = nx.from_dict_of_lists(adj)\n",
    "    g = dgl.DGLGraph(xg)\n",
    "    Graph_data.append((g,l))\n",
    "    \n",
    "    \n",
    "    \n",
    "    \n",
    "    "
   ]
  },
  {
   "cell_type": "code",
   "execution_count": 20,
   "metadata": {},
   "outputs": [
    {
     "data": {
      "text/plain": [
       "[(DGLGraph(num_nodes=6464, num_edges=33617,\n",
       "           ndata_schemes={}\n",
       "           edata_schemes={}), 0), (DGLGraph(num_nodes=27015, num_edges=165471,\n",
       "           ndata_schemes={}\n",
       "           edata_schemes={}), 0), (DGLGraph(num_nodes=47823, num_edges=294135,\n",
       "           ndata_schemes={}\n",
       "           edata_schemes={}), 0), (DGLGraph(num_nodes=41470, num_edges=247958,\n",
       "           ndata_schemes={}\n",
       "           edata_schemes={}), 0), (DGLGraph(num_nodes=8570, num_edges=50530,\n",
       "           ndata_schemes={}\n",
       "           edata_schemes={}), 0), (DGLGraph(num_nodes=226, num_edges=1168,\n",
       "           ndata_schemes={}\n",
       "           edata_schemes={}), 0), (DGLGraph(num_nodes=4407, num_edges=27762,\n",
       "           ndata_schemes={}\n",
       "           edata_schemes={}), 0), (DGLGraph(num_nodes=38932, num_edges=248484,\n",
       "           ndata_schemes={}\n",
       "           edata_schemes={}), 0), (DGLGraph(num_nodes=32442, num_edges=192284,\n",
       "           ndata_schemes={}\n",
       "           edata_schemes={}), 0), (DGLGraph(num_nodes=4588, num_edges=24993,\n",
       "           ndata_schemes={}\n",
       "           edata_schemes={}), 0)]"
      ]
     },
     "execution_count": 20,
     "metadata": {},
     "output_type": "execute_result"
    }
   ],
   "source": [
    "Graph_data"
   ]
  },
  {
   "cell_type": "code",
   "execution_count": 21,
   "metadata": {},
   "outputs": [],
   "source": [
    "def collate(samples):\n",
    "  graphs, labels = map(list, zip(*samples))\n",
    "  # print(len(samples[0]))\n",
    "  batched_graph = dgl.batch(graphs)\n",
    "  return batched_graph, torch.tensor(labels)"
   ]
  },
  {
   "cell_type": "code",
   "execution_count": 25,
   "metadata": {},
   "outputs": [],
   "source": [
    "#send a message of node feature h.\n",
    "msg = fn.copy_src(src='h',out='m')\n",
    "# fn.copy_u()\n",
    "def reduce(nodes):\n",
    "    \n",
    "    \n",
    "    ''' Avg of the node features'''\n",
    "    accum = torch.mean(nodes.mailbox['m'],1)\n",
    "    return {'h': accum}\n",
    "\n",
    "class NodeApplyModule(nn.Module):\n",
    "    ''' hv - > ReLU(Whv+b)'''\n",
    "    def __init__(self, in_feats, out_feats, activation):\n",
    "        \n",
    "        super(NodeApplyModule, self).__init__()\n",
    "        self.linear = nn.Linear(in_features=in_feats, out_features=out_feats)\n",
    "        self.activation = activation\n",
    "    def forward(self, node):\n",
    "        h = self.linear(node.data['h'])\n",
    "        h = self.activation(h)\n",
    "        return {'h' : h}\n",
    "class GCN(nn.Module):\n",
    "    def __init__(self, in_feats, out_feats, activation):\n",
    "        super(GCN,self).__init__()\n",
    "        self.apply_mod = NodeApplyModule(in_feats, out_feats, activation)\n",
    "def forward(self, g, features):\n",
    "    #initialize node feature with h.\n",
    "    g.ndata['h'] = features\n",
    "    g.update_all(msg, reduce)\n",
    "    g.apply_nodes(func = self.apply_mod)\n",
    "    return g.ndata.pop('h')"
   ]
  },
  {
   "cell_type": "code",
   "execution_count": 30,
   "metadata": {},
   "outputs": [],
   "source": [
    "class Classifier(nn.Module):\n",
    "    def __init__(self, in_dim, hidden_dim, n_classes):\n",
    "        super(Classifier, self).__init__()\n",
    "        self.layers = nn.ModuleList([GCN(in_dim, hidden_dim, F.relu), GCN(hidden_dim, hidden_dim, F.relu)])\n",
    "        self.classify = nn.Linear(hidden_dim, n_classes)\n",
    "\n",
    "    def forward(self, g):\n",
    "        h = g.in_degrees().view(-1, 1).float() #this is basically its features\n",
    "        for conv in self.layers: \n",
    "            h = conv(g, h)\n",
    "        g.ndata['h'] = h\n",
    "\n",
    "        hg = dgl.mean_nodes(g,'h')\n",
    "\n",
    "        \n",
    "        return self.classify(hg)"
   ]
  },
  {
   "cell_type": "code",
   "execution_count": 27,
   "metadata": {},
   "outputs": [
    {
     "data": {
      "text/plain": [
       "'\\nthe train data and test data loader here\\n\\n'"
      ]
     },
     "execution_count": 27,
     "metadata": {},
     "output_type": "execute_result"
    }
   ],
   "source": [
    "'''\n",
    "the train data and test data loader here\n",
    "\n",
    "'''\n",
    "# trainset = MiniGCDataset(320, 10, 20)\n",
    "# testset = MiniGCDataset(80, 10, 20)\n",
    "# data_loader = DataLoader(trainset, batch_size = 32, shuffle = True, collate_fn = collate)"
   ]
  },
  {
   "cell_type": "code",
   "execution_count": 29,
   "metadata": {},
   "outputs": [
    {
     "ename": "NameError",
     "evalue": "name 'Classifier' is not defined",
     "output_type": "error",
     "traceback": [
      "\u001b[0;31m---------------------------------------------------------------------------\u001b[0m",
      "\u001b[0;31mNameError\u001b[0m                                 Traceback (most recent call last)",
      "\u001b[0;32m<ipython-input-29-3dfaa13e0e87>\u001b[0m in \u001b[0;36m<module>\u001b[0;34m\u001b[0m\n\u001b[0;32m----> 1\u001b[0;31m \u001b[0mmodel\u001b[0m \u001b[0;34m=\u001b[0m \u001b[0mClassifier\u001b[0m\u001b[0;34m(\u001b[0m\u001b[0;36m1\u001b[0m\u001b[0;34m,\u001b[0m \u001b[0;36m256\u001b[0m\u001b[0;34m,\u001b[0m \u001b[0mtrainset\u001b[0m\u001b[0;34m.\u001b[0m\u001b[0mnum_classes\u001b[0m\u001b[0;34m)\u001b[0m \u001b[0;31m#why???\u001b[0m\u001b[0;34m\u001b[0m\u001b[0;34m\u001b[0m\u001b[0m\n\u001b[0m\u001b[1;32m      2\u001b[0m \u001b[0mcriterion\u001b[0m \u001b[0;34m=\u001b[0m \u001b[0mnn\u001b[0m\u001b[0;34m.\u001b[0m\u001b[0mCrossEntropyLoss\u001b[0m\u001b[0;34m(\u001b[0m\u001b[0;34m)\u001b[0m\u001b[0;34m\u001b[0m\u001b[0;34m\u001b[0m\u001b[0m\n\u001b[1;32m      3\u001b[0m \u001b[0moptimizer\u001b[0m \u001b[0;34m=\u001b[0m \u001b[0moptim\u001b[0m\u001b[0;34m.\u001b[0m\u001b[0mAdam\u001b[0m\u001b[0;34m(\u001b[0m\u001b[0mmodel\u001b[0m\u001b[0;34m.\u001b[0m\u001b[0mparameters\u001b[0m\u001b[0;34m(\u001b[0m\u001b[0;34m)\u001b[0m\u001b[0;34m,\u001b[0m \u001b[0mlr\u001b[0m \u001b[0;34m=\u001b[0m \u001b[0;36m0.001\u001b[0m\u001b[0;34m)\u001b[0m\u001b[0;34m\u001b[0m\u001b[0;34m\u001b[0m\u001b[0m\n\u001b[1;32m      4\u001b[0m \u001b[0mmodel\u001b[0m\u001b[0;34m.\u001b[0m\u001b[0mtrain\u001b[0m\u001b[0;34m(\u001b[0m\u001b[0;34m)\u001b[0m\u001b[0;34m\u001b[0m\u001b[0;34m\u001b[0m\u001b[0m\n\u001b[1;32m      5\u001b[0m \u001b[0mlosses\u001b[0m \u001b[0;34m=\u001b[0m \u001b[0;34m[\u001b[0m\u001b[0;34m]\u001b[0m\u001b[0;34m\u001b[0m\u001b[0;34m\u001b[0m\u001b[0m\n",
      "\u001b[0;31mNameError\u001b[0m: name 'Classifier' is not defined"
     ]
    }
   ],
   "source": [
    "model = Classifier(1, 256, trainset.num_classes) #why???\n",
    "criterion = nn.CrossEntropyLoss()\n",
    "optimizer = optim.Adam(model.parameters(), lr = 0.001)\n",
    "model.train()\n",
    "losses = []\n",
    "for epoch in range(80):\n",
    "    epoch_loss = 0\n",
    "    for iter, (bg, label) in enumerate(data_loader):\n",
    "        pred = model(bg)\n",
    "        loss = criterion(pred, label)\n",
    "\n",
    "        optimizer.zero_grad()\n",
    "        loss.backward()\n",
    "        optimizer.step()\n",
    "        epoch_loss += loss.detach().item()\n",
    "    epoch_loss /= (iter + 1)\n",
    "    print(f\"epoch {epoch}| loss{epoch_loss}\")\n",
    "    losses.append(epoch_loss)"
   ]
  },
  {
   "cell_type": "code",
   "execution_count": null,
   "metadata": {},
   "outputs": [],
   "source": []
  }
 ],
 "metadata": {
  "kernelspec": {
   "display_name": "Python 3",
   "language": "python",
   "name": "python3"
  },
  "language_info": {
   "codemirror_mode": {
    "name": "ipython",
    "version": 3
   },
   "file_extension": ".py",
   "mimetype": "text/x-python",
   "name": "python",
   "nbconvert_exporter": "python",
   "pygments_lexer": "ipython3",
   "version": "3.7.3"
  }
 },
 "nbformat": 4,
 "nbformat_minor": 2
}
